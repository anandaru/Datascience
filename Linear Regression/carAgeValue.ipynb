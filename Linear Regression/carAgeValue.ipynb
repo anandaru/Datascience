{
 "cells": [
  {
   "cell_type": "code",
   "execution_count": 63,
   "id": "b300790b",
   "metadata": {},
   "outputs": [],
   "source": [
    "import numpy as np # linear algebra\n",
    "import pandas as pd # data load/processing\n",
    "import matplotlib.pyplot as plt # plot graph\n",
    "import seaborn as sns #visualization tool\n",
    "from sklearn.linear_model import LinearRegression\n",
    "\n",
    "#Table shows the age in years and the retail value in thousands of dollars of a random sample of ten automobiles of the same make and model.\n",
    "#Construct the scatter diagram in matplotlib and seaborn.\n",
    "#Compute the linear correlation coefficient r. Interpret its value in the context of the problem.\n",
    "#Compute the least squares regression line. Plot it on the scatter diagram.\n",
    "#Interpret the meaning of the slope of the least squares regression line in the context of the problem.\n",
    "#Suppose a four-year-old automobile of this make and model is selected at random. Use the regression equation to predict its retail value.\n",
    "#Suppose a 20-year-old automobile of this make and model is selected at random. Use the regression equation to predict its retail value. Interpret the result.\n",
    "#Comment on the validity of using the regression equation to predict the price of a brand new automobile of this make and model.\n",
    "#predict the values as per regression line and add in new column to dataframe \n",
    "#Evaluate the regression model (MAE, MSE, RMSE)\n",
    "#Run a polynomial transformation. Add to dataframe. Plot the graph.\n",
    "#Evaluate the new model (MAE, MSE, RMSE) and analyze if its a better fit compared to linear regression.\n",
    "#save dataframe to new csv\n"
   ]
  },
  {
   "cell_type": "code",
   "execution_count": 3,
   "id": "47bf1cec",
   "metadata": {},
   "outputs": [
    {
     "data": {
      "text/html": [
       "<div>\n",
       "<style scoped>\n",
       "    .dataframe tbody tr th:only-of-type {\n",
       "        vertical-align: middle;\n",
       "    }\n",
       "\n",
       "    .dataframe tbody tr th {\n",
       "        vertical-align: top;\n",
       "    }\n",
       "\n",
       "    .dataframe thead th {\n",
       "        text-align: right;\n",
       "    }\n",
       "</style>\n",
       "<table border=\"1\" class=\"dataframe\">\n",
       "  <thead>\n",
       "    <tr style=\"text-align: right;\">\n",
       "      <th></th>\n",
       "      <th>age</th>\n",
       "      <th>value</th>\n",
       "    </tr>\n",
       "  </thead>\n",
       "  <tbody>\n",
       "    <tr>\n",
       "      <th>0</th>\n",
       "      <td>2</td>\n",
       "      <td>28.7</td>\n",
       "    </tr>\n",
       "    <tr>\n",
       "      <th>1</th>\n",
       "      <td>3</td>\n",
       "      <td>24.8</td>\n",
       "    </tr>\n",
       "    <tr>\n",
       "      <th>2</th>\n",
       "      <td>3</td>\n",
       "      <td>26.0</td>\n",
       "    </tr>\n",
       "    <tr>\n",
       "      <th>3</th>\n",
       "      <td>3</td>\n",
       "      <td>30.5</td>\n",
       "    </tr>\n",
       "    <tr>\n",
       "      <th>4</th>\n",
       "      <td>4</td>\n",
       "      <td>23.8</td>\n",
       "    </tr>\n",
       "    <tr>\n",
       "      <th>5</th>\n",
       "      <td>4</td>\n",
       "      <td>24.6</td>\n",
       "    </tr>\n",
       "    <tr>\n",
       "      <th>6</th>\n",
       "      <td>5</td>\n",
       "      <td>23.8</td>\n",
       "    </tr>\n",
       "    <tr>\n",
       "      <th>7</th>\n",
       "      <td>5</td>\n",
       "      <td>20.4</td>\n",
       "    </tr>\n",
       "    <tr>\n",
       "      <th>8</th>\n",
       "      <td>5</td>\n",
       "      <td>21.6</td>\n",
       "    </tr>\n",
       "    <tr>\n",
       "      <th>9</th>\n",
       "      <td>6</td>\n",
       "      <td>22.1</td>\n",
       "    </tr>\n",
       "  </tbody>\n",
       "</table>\n",
       "</div>"
      ],
      "text/plain": [
       "   age  value\n",
       "0    2   28.7\n",
       "1    3   24.8\n",
       "2    3   26.0\n",
       "3    3   30.5\n",
       "4    4   23.8\n",
       "5    4   24.6\n",
       "6    5   23.8\n",
       "7    5   20.4\n",
       "8    5   21.6\n",
       "9    6   22.1"
      ]
     },
     "execution_count": 3,
     "metadata": {},
     "output_type": "execute_result"
    }
   ],
   "source": [
    "#load data in a datafrome\n",
    "df=pd.read_csv('cars.csv')\n",
    "df"
   ]
  },
  {
   "cell_type": "code",
   "execution_count": 6,
   "id": "381f147c",
   "metadata": {},
   "outputs": [
    {
     "data": {
      "text/plain": [
       "<matplotlib.collections.PathCollection at 0x2ae1c25b7f0>"
      ]
     },
     "execution_count": 6,
     "metadata": {},
     "output_type": "execute_result"
    },
    {
     "data": {
      "image/png": "[encoded data removed]",
      "text/plain": [
       "<Figure size 432x288 with 1 Axes>"
      ]
     },
     "metadata": {
      "needs_background": "light"
     },
     "output_type": "display_data"
    }
   ],
   "source": [
    "#create a scatterplot using matplotlib \n",
    "plt.xlabel(\"Age of car\")\n",
    "plt.ylabel(\"Price in dollars - thousand\")\n",
    "plt.title(\"Scatter Plot for Car prices\") \n",
    "plt.scatter(df.age,df.value, color= 'red',marker = '*')"
   ]
  },
  {
   "cell_type": "code",
   "execution_count": 32,
   "id": "8b9c9d69",
   "metadata": {},
   "outputs": [
    {
     "data": {
      "image/png": "[encoded data removed]",
      "text/plain": [
       "<Figure size 360x360 with 1 Axes>"
      ]
     },
     "metadata": {},
     "output_type": "display_data"
    }
   ],
   "source": [
    "#create a scatterplot using seaborn \n",
    "sns.set_theme(style=\"darkgrid\")\n",
    "sns.relplot(x=\"age\", y=\"value\", data=df)\n",
    "plt.show()"
   ]
  },
  {
   "cell_type": "code",
   "execution_count": 7,
   "id": "06ed727d",
   "metadata": {},
   "outputs": [
    {
     "data": {
      "text/plain": [
       "array([[ 1.        , -0.81868648],\n",
       "       [-0.81868648,  1.        ]])"
      ]
     },
     "execution_count": 7,
     "metadata": {},
     "output_type": "execute_result"
    }
   ],
   "source": [
    "# correlation coefficient measures strength and direction of linear relationship between two varaibles car age and car value\n",
    "np.corrcoef(df.age,df.value)"
   ]
  },
  {
   "cell_type": "code",
   "execution_count": null,
   "id": "026085ca",
   "metadata": {},
   "outputs": [],
   "source": [
    "#The age and value of this make and model automobile are moderately strongly negatively correlated. \n",
    "#As the age increases, the value of the automobile tends to decrease"
   ]
  },
  {
   "cell_type": "code",
   "execution_count": 37,
   "id": "d56589c9",
   "metadata": {},
   "outputs": [
    {
     "data": {
      "text/plain": [
       "[<matplotlib.lines.Line2D at 0x2ae1c05fa30>]"
      ]
     },
     "execution_count": 37,
     "metadata": {},
     "output_type": "execute_result"
    },
    {
     "data": {
      "image/png": "[encoded data removed]",
      "text/plain": [
       "<Figure size 432x288 with 1 Axes>"
      ]
     },
     "metadata": {},
     "output_type": "display_data"
    }
   ],
   "source": [
    "#Compute the least squares regression line. Plot it on the scatter diagram.\n",
    "model = LinearRegression().fit(df[['age']],df.value)\n",
    "plt.scatter(df.age,df.value, color= 'red',marker = '*')\n",
    "plt.plot(df.age,model.predict(df[['age']]))"
   ]
  },
  {
   "cell_type": "code",
   "execution_count": 42,
   "id": "ef6b0408",
   "metadata": {},
   "outputs": [
    {
     "data": {
      "text/plain": [
       "<AxesSubplot:xlabel='age'>"
      ]
     },
     "execution_count": 42,
     "metadata": {},
     "output_type": "execute_result"
    },
    {
     "data": {
      "image/png": "[encoded data removed]",
      "text/plain": [
       "<Figure size 432x288 with 1 Axes>"
      ]
     },
     "metadata": {},
     "output_type": "display_data"
    }
   ],
   "source": [
    "#plot line in seaborn\n",
    "plt.scatter(df.age,df.value, color= 'green',marker = '+')\n",
    "sns.lineplot(data=df, x=df.age, y=model.predict(df[['age']]))"
   ]
  },
  {
   "cell_type": "code",
   "execution_count": 26,
   "id": "f5d6d8d8",
   "metadata": {},
   "outputs": [
    {
     "name": "stdout",
     "output_type": "stream",
     "text": [
      "coefficient of determination: 0.6702475478748247\n",
      "intercept: 32.83\n",
      "slope: [-2.05]\n"
     ]
    }
   ],
   "source": [
    "# Print coefficient of determination (goodness of fit)\n",
    "r_sq = model.score(df[['age']],df.value)\n",
    "print('coefficient of determination:', r_sq)\n",
    "\n",
    "# Print the Intercept:\n",
    "print('intercept:', model.intercept_)\n",
    "\n",
    "# Print the Slope:\n",
    "print('slope:', model.coef_)"
   ]
  },
  {
   "cell_type": "code",
   "execution_count": 38,
   "id": "799ca13f",
   "metadata": {},
   "outputs": [],
   "source": [
    "#coefficient of determination - goodness of fit is 67% moderate\n",
    "#meaning of the slope of the least squares regression line\n",
    "#for every unit change in the age (1 year) the car value depreciates by 2.05 units of value (2050 dollars)"
   ]
  },
  {
   "cell_type": "code",
   "execution_count": 11,
   "id": "644d3e2f",
   "metadata": {},
   "outputs": [
    {
     "name": "stderr",
     "output_type": "stream",
     "text": [
      "c:\\users\\aanand.oradev\\appdata\\local\\programs\\python\\python39\\lib\\site-packages\\sklearn\\base.py:445: UserWarning: X does not have valid feature names, but LinearRegression was fitted with feature names\n",
      "  warnings.warn(\n"
     ]
    },
    {
     "data": {
      "text/plain": [
       "array([24.63])"
      ]
     },
     "execution_count": 11,
     "metadata": {},
     "output_type": "execute_result"
    }
   ],
   "source": [
    "model.predict([[4]])"
   ]
  },
  {
   "cell_type": "code",
   "execution_count": 17,
   "id": "357638dd",
   "metadata": {},
   "outputs": [
    {
     "name": "stderr",
     "output_type": "stream",
     "text": [
      "c:\\users\\aanand.oradev\\appdata\\local\\programs\\python\\python39\\lib\\site-packages\\sklearn\\base.py:445: UserWarning: X does not have valid feature names, but LinearRegression was fitted with feature names\n",
      "  warnings.warn(\n"
     ]
    },
    {
     "data": {
      "text/plain": [
       "array([-8.17])"
      ]
     },
     "execution_count": 17,
     "metadata": {},
     "output_type": "execute_result"
    }
   ],
   "source": [
    "#extrapolation should be avoided since value of x is outside our data range. negative value makes no sense.\n",
    "model.predict([[20]])"
   ]
  },
  {
   "cell_type": "code",
   "execution_count": 18,
   "id": "042b0dd2",
   "metadata": {},
   "outputs": [
    {
     "name": "stderr",
     "output_type": "stream",
     "text": [
      "c:\\users\\aanand.oradev\\appdata\\local\\programs\\python\\python39\\lib\\site-packages\\sklearn\\base.py:445: UserWarning: X does not have valid feature names, but LinearRegression was fitted with feature names\n",
      "  warnings.warn(\n"
     ]
    },
    {
     "data": {
      "text/plain": [
       "array([32.83])"
      ]
     },
     "execution_count": 18,
     "metadata": {},
     "output_type": "execute_result"
    }
   ],
   "source": [
    "#value of brand new car\n",
    "#extrapolation should be avoided since value of x is outside our data range\n",
    "model.predict([[0]])"
   ]
  },
  {
   "cell_type": "code",
   "execution_count": 31,
   "id": "d428ace2",
   "metadata": {},
   "outputs": [
    {
     "data": {
      "text/html": [
       "<div>\n",
       "<style scoped>\n",
       "    .dataframe tbody tr th:only-of-type {\n",
       "        vertical-align: middle;\n",
       "    }\n",
       "\n",
       "    .dataframe tbody tr th {\n",
       "        vertical-align: top;\n",
       "    }\n",
       "\n",
       "    .dataframe thead th {\n",
       "        text-align: right;\n",
       "    }\n",
       "</style>\n",
       "<table border=\"1\" class=\"dataframe\">\n",
       "  <thead>\n",
       "    <tr style=\"text-align: right;\">\n",
       "      <th></th>\n",
       "      <th>age</th>\n",
       "      <th>value</th>\n",
       "      <th>predicted</th>\n",
       "    </tr>\n",
       "  </thead>\n",
       "  <tbody>\n",
       "    <tr>\n",
       "      <th>0</th>\n",
       "      <td>2</td>\n",
       "      <td>28.7</td>\n",
       "      <td>28.73</td>\n",
       "    </tr>\n",
       "    <tr>\n",
       "      <th>1</th>\n",
       "      <td>3</td>\n",
       "      <td>24.8</td>\n",
       "      <td>26.68</td>\n",
       "    </tr>\n",
       "    <tr>\n",
       "      <th>2</th>\n",
       "      <td>3</td>\n",
       "      <td>26.0</td>\n",
       "      <td>26.68</td>\n",
       "    </tr>\n",
       "    <tr>\n",
       "      <th>3</th>\n",
       "      <td>3</td>\n",
       "      <td>30.5</td>\n",
       "      <td>26.68</td>\n",
       "    </tr>\n",
       "    <tr>\n",
       "      <th>4</th>\n",
       "      <td>4</td>\n",
       "      <td>23.8</td>\n",
       "      <td>24.63</td>\n",
       "    </tr>\n",
       "    <tr>\n",
       "      <th>5</th>\n",
       "      <td>4</td>\n",
       "      <td>24.6</td>\n",
       "      <td>24.63</td>\n",
       "    </tr>\n",
       "    <tr>\n",
       "      <th>6</th>\n",
       "      <td>5</td>\n",
       "      <td>23.8</td>\n",
       "      <td>22.58</td>\n",
       "    </tr>\n",
       "    <tr>\n",
       "      <th>7</th>\n",
       "      <td>5</td>\n",
       "      <td>20.4</td>\n",
       "      <td>22.58</td>\n",
       "    </tr>\n",
       "    <tr>\n",
       "      <th>8</th>\n",
       "      <td>5</td>\n",
       "      <td>21.6</td>\n",
       "      <td>22.58</td>\n",
       "    </tr>\n",
       "    <tr>\n",
       "      <th>9</th>\n",
       "      <td>6</td>\n",
       "      <td>22.1</td>\n",
       "      <td>20.53</td>\n",
       "    </tr>\n",
       "  </tbody>\n",
       "</table>\n",
       "</div>"
      ],
      "text/plain": [
       "   age  value  predicted\n",
       "0    2   28.7      28.73\n",
       "1    3   24.8      26.68\n",
       "2    3   26.0      26.68\n",
       "3    3   30.5      26.68\n",
       "4    4   23.8      24.63\n",
       "5    4   24.6      24.63\n",
       "6    5   23.8      22.58\n",
       "7    5   20.4      22.58\n",
       "8    5   21.6      22.58\n",
       "9    6   22.1      20.53"
      ]
     },
     "execution_count": 31,
     "metadata": {},
     "output_type": "execute_result"
    }
   ],
   "source": [
    "#predict the values as per regression line and add in new column to dataframe \n",
    "predictedage= model.predict(df[['age']])\n",
    "df['predicted']= predictedage\n",
    "df"
   ]
  },
  {
   "cell_type": "code",
   "execution_count": 44,
   "id": "b4857e0c",
   "metadata": {},
   "outputs": [
    {
     "data": {
      "text/html": [
       "<div>\n",
       "<style scoped>\n",
       "    .dataframe tbody tr th:only-of-type {\n",
       "        vertical-align: middle;\n",
       "    }\n",
       "\n",
       "    .dataframe tbody tr th {\n",
       "        vertical-align: top;\n",
       "    }\n",
       "\n",
       "    .dataframe thead th {\n",
       "        text-align: right;\n",
       "    }\n",
       "</style>\n",
       "<table border=\"1\" class=\"dataframe\">\n",
       "  <thead>\n",
       "    <tr style=\"text-align: right;\">\n",
       "      <th></th>\n",
       "      <th>Metrics</th>\n",
       "    </tr>\n",
       "  </thead>\n",
       "  <tbody>\n",
       "    <tr>\n",
       "      <th>MAE</th>\n",
       "      <td>1.322000</td>\n",
       "    </tr>\n",
       "    <tr>\n",
       "      <th>MSE</th>\n",
       "      <td>2.894600</td>\n",
       "    </tr>\n",
       "    <tr>\n",
       "      <th>RMSE</th>\n",
       "      <td>1.701352</td>\n",
       "    </tr>\n",
       "  </tbody>\n",
       "</table>\n",
       "</div>"
      ],
      "text/plain": [
       "       Metrics\n",
       "MAE   1.322000\n",
       "MSE   2.894600\n",
       "RMSE  1.701352"
      ]
     },
     "execution_count": 44,
     "metadata": {},
     "output_type": "execute_result"
    }
   ],
   "source": [
    "#Evaluate the model\n",
    "from sklearn import metrics\n",
    "MAE= metrics.mean_absolute_error(df.value, df.predicted)\n",
    "MSE= metrics.mean_squared_error(df.value, df.predicted)\n",
    "RMSE=np.sqrt(MSE)\n",
    "pd.DataFrame([MAE, MSE, RMSE], index=['MAE', 'MSE', 'RMSE'], columns=['Metrics'])"
   ]
  },
  {
   "cell_type": "code",
   "execution_count": 68,
   "id": "8873e286",
   "metadata": {},
   "outputs": [
    {
     "name": "stderr",
     "output_type": "stream",
     "text": [
      "c:\\users\\aanand.oradev\\appdata\\local\\programs\\python\\python39\\lib\\site-packages\\sklearn\\utils\\deprecation.py:87: FutureWarning: Function get_feature_names is deprecated; get_feature_names is deprecated in 1.0 and will be removed in 1.2. Please use get_feature_names_out instead.\n",
      "  warnings.warn(msg, category=FutureWarning)\n"
     ]
    },
    {
     "data": {
      "text/plain": [
       "['1', 'age', 'age^2']"
      ]
     },
     "execution_count": 68,
     "metadata": {},
     "output_type": "execute_result"
    }
   ],
   "source": [
    "##Run a polynomial transformation. Add to dataframe. \n",
    "\n",
    "#Linear regression is linear in the model parameters and adding polynomial terms \n",
    "#to the model can be an effective way of allowing the model to identify nonlinear patterns.\n",
    "#Polynomial regression extends the linear model by adding extra predictors, obtained by raising each of the original \n",
    "#predictors to a power. For example, a cubic regression uses three variables, X, X2, and X3, as predictors. \n",
    "#This approach provides a simple way to provide a non-linear fit to data.\n",
    "\n",
    "\n",
    "#Let’s run a polynomial transformation on “experience” (X) with the same model and see if our errors reduce.\n",
    "\n",
    "from sklearn.preprocessing import PolynomialFeatures\n",
    "pf=PolynomialFeatures()     #Linear Equation of degree 2\n",
    "X_poly=pf.fit_transform(df[['age']]) \n",
    "model.fit(X_poly, df.value)\n",
    "yp=model.predict(X_poly)\n",
    "\n",
    "pf.get_feature_names(df.columns)\n",
    "#features = DataFrame(pf.transform(df), columns=pf.get_feature_names(df.columns))\n",
    "#features\n"
   ]
  },
  {
   "cell_type": "code",
   "execution_count": 48,
   "id": "5b5170da",
   "metadata": {},
   "outputs": [
    {
     "data": {
      "text/html": [
       "<div>\n",
       "<style scoped>\n",
       "    .dataframe tbody tr th:only-of-type {\n",
       "        vertical-align: middle;\n",
       "    }\n",
       "\n",
       "    .dataframe tbody tr th {\n",
       "        vertical-align: top;\n",
       "    }\n",
       "\n",
       "    .dataframe thead th {\n",
       "        text-align: right;\n",
       "    }\n",
       "</style>\n",
       "<table border=\"1\" class=\"dataframe\">\n",
       "  <thead>\n",
       "    <tr style=\"text-align: right;\">\n",
       "      <th></th>\n",
       "      <th>age</th>\n",
       "      <th>value</th>\n",
       "      <th>predicted</th>\n",
       "      <th>pred PolyTransform</th>\n",
       "    </tr>\n",
       "  </thead>\n",
       "  <tbody>\n",
       "    <tr>\n",
       "      <th>0</th>\n",
       "      <td>2</td>\n",
       "      <td>28.7</td>\n",
       "      <td>28.73</td>\n",
       "      <td>29.504348</td>\n",
       "    </tr>\n",
       "    <tr>\n",
       "      <th>1</th>\n",
       "      <td>3</td>\n",
       "      <td>24.8</td>\n",
       "      <td>26.68</td>\n",
       "      <td>26.560870</td>\n",
       "    </tr>\n",
       "    <tr>\n",
       "      <th>2</th>\n",
       "      <td>3</td>\n",
       "      <td>26.0</td>\n",
       "      <td>26.68</td>\n",
       "      <td>26.560870</td>\n",
       "    </tr>\n",
       "    <tr>\n",
       "      <th>3</th>\n",
       "      <td>3</td>\n",
       "      <td>30.5</td>\n",
       "      <td>26.68</td>\n",
       "      <td>26.560870</td>\n",
       "    </tr>\n",
       "    <tr>\n",
       "      <th>4</th>\n",
       "      <td>4</td>\n",
       "      <td>23.8</td>\n",
       "      <td>24.63</td>\n",
       "      <td>24.213043</td>\n",
       "    </tr>\n",
       "    <tr>\n",
       "      <th>5</th>\n",
       "      <td>4</td>\n",
       "      <td>24.6</td>\n",
       "      <td>24.63</td>\n",
       "      <td>24.213043</td>\n",
       "    </tr>\n",
       "    <tr>\n",
       "      <th>6</th>\n",
       "      <td>5</td>\n",
       "      <td>23.8</td>\n",
       "      <td>22.58</td>\n",
       "      <td>22.460870</td>\n",
       "    </tr>\n",
       "    <tr>\n",
       "      <th>7</th>\n",
       "      <td>5</td>\n",
       "      <td>20.4</td>\n",
       "      <td>22.58</td>\n",
       "      <td>22.460870</td>\n",
       "    </tr>\n",
       "    <tr>\n",
       "      <th>8</th>\n",
       "      <td>5</td>\n",
       "      <td>21.6</td>\n",
       "      <td>22.58</td>\n",
       "      <td>22.460870</td>\n",
       "    </tr>\n",
       "    <tr>\n",
       "      <th>9</th>\n",
       "      <td>6</td>\n",
       "      <td>22.1</td>\n",
       "      <td>20.53</td>\n",
       "      <td>21.304348</td>\n",
       "    </tr>\n",
       "  </tbody>\n",
       "</table>\n",
       "</div>"
      ],
      "text/plain": [
       "   age  value  predicted  pred PolyTransform\n",
       "0    2   28.7      28.73           29.504348\n",
       "1    3   24.8      26.68           26.560870\n",
       "2    3   26.0      26.68           26.560870\n",
       "3    3   30.5      26.68           26.560870\n",
       "4    4   23.8      24.63           24.213043\n",
       "5    4   24.6      24.63           24.213043\n",
       "6    5   23.8      22.58           22.460870\n",
       "7    5   20.4      22.58           22.460870\n",
       "8    5   21.6      22.58           22.460870\n",
       "9    6   22.1      20.53           21.304348"
      ]
     },
     "execution_count": 48,
     "metadata": {},
     "output_type": "execute_result"
    }
   ],
   "source": [
    "df['pred PolyTransform']= yp\n",
    "df"
   ]
  },
  {
   "cell_type": "code",
   "execution_count": 54,
   "id": "8388b70f",
   "metadata": {},
   "outputs": [
    {
     "data": {
      "text/plain": [
       "<AxesSubplot:xlabel='age', ylabel='vals'>"
      ]
     },
     "execution_count": 54,
     "metadata": {},
     "output_type": "execute_result"
    },
    {
     "data": {
      "image/png": "[encoded data removed]",
      "text/plain": [
       "<Figure size 432x288 with 1 Axes>"
      ]
     },
     "metadata": {},
     "output_type": "display_data"
    }
   ],
   "source": [
    "#Plot the linear regression and polynomial transformation\n",
    "plt.scatter(df.age,df.value, color= 'red',marker = '+')\n",
    "dfm = df.melt('age', var_name='cols', value_name='vals')\n",
    "sns.pointplot(x=\"age\", y=\"vals\", hue='cols', data=dfm)"
   ]
  },
  {
   "cell_type": "code",
   "execution_count": 56,
   "id": "97fe02e7",
   "metadata": {},
   "outputs": [
    {
     "data": {
      "text/html": [
       "<div>\n",
       "<style scoped>\n",
       "    .dataframe tbody tr th:only-of-type {\n",
       "        vertical-align: middle;\n",
       "    }\n",
       "\n",
       "    .dataframe tbody tr th {\n",
       "        vertical-align: top;\n",
       "    }\n",
       "\n",
       "    .dataframe thead th {\n",
       "        text-align: right;\n",
       "    }\n",
       "</style>\n",
       "<table border=\"1\" class=\"dataframe\">\n",
       "  <thead>\n",
       "    <tr style=\"text-align: right;\">\n",
       "      <th></th>\n",
       "      <th>Metrics</th>\n",
       "    </tr>\n",
       "  </thead>\n",
       "  <tbody>\n",
       "    <tr>\n",
       "      <th>MAE_new</th>\n",
       "      <td>1.292174</td>\n",
       "    </tr>\n",
       "    <tr>\n",
       "      <th>MSE_new</th>\n",
       "      <td>2.731391</td>\n",
       "    </tr>\n",
       "    <tr>\n",
       "      <th>RMSE_new</th>\n",
       "      <td>1.701352</td>\n",
       "    </tr>\n",
       "  </tbody>\n",
       "</table>\n",
       "</div>"
      ],
      "text/plain": [
       "           Metrics\n",
       "MAE_new   1.292174\n",
       "MSE_new   2.731391\n",
       "RMSE_new  1.701352"
      ]
     },
     "execution_count": 56,
     "metadata": {},
     "output_type": "execute_result"
    }
   ],
   "source": [
    "#Evaluate the new model (MAE, MSE, RMSE) and analyze if its a better fit compared to linear regression.\n",
    "MAE_new= metrics.mean_absolute_error(df.value, df['pred PolyTransform'])\n",
    "MSE_new= metrics.mean_squared_error(df.value, df['pred PolyTransform'])\n",
    "RMSE_new=np.sqrt(MSE)\n",
    "pd.DataFrame([MAE_new, MSE_new, RMSE_new], index=['MAE_new', 'MSE_new', 'RMSE_new'], columns=['Metrics'])"
   ]
  },
  {
   "cell_type": "code",
   "execution_count": 70,
   "id": "3e221a5e",
   "metadata": {},
   "outputs": [],
   "source": [
    "#since the MAE_new and MSE_new are less than MAE and MSE the Polynomial regression is a better fit."
   ]
  },
  {
   "cell_type": "code",
   "execution_count": 71,
   "id": "36706b57",
   "metadata": {},
   "outputs": [],
   "source": [
    "#save dataframe to new csv\n",
    "df.to_csv('car_pred.csv',index = False)"
   ]
  }
 ],
 "metadata": {
  "kernelspec": {
   "display_name": "Python 3 (ipykernel)",
   "language": "python",
   "name": "python3"
  },
  "language_info": {
   "codemirror_mode": {
    "name": "ipython",
    "version": 3
   },
   "file_extension": ".py",
   "mimetype": "text/x-python",
   "name": "python",
   "nbconvert_exporter": "python",
   "pygments_lexer": "ipython3",
   "version": "3.9.5"
  }
 },
 "nbformat": 4,
 "nbformat_minor": 5
}
